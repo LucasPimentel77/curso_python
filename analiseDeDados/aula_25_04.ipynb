{
 "cells": [
  {
   "cell_type": "code",
   "execution_count": 113,
   "id": "98b4935d",
   "metadata": {},
   "outputs": [],
   "source": [
    "import pandas as pd\n",
    "\n",
    "df = pd.read_csv(\"C:/Users/cyber__edux_83/Desktop/lucas_noturno_t1/Ecommerce_Consumer_Behavior_Analysis_Data.csv\")"
   ]
  },
  {
   "cell_type": "markdown",
   "id": "f35f2f15",
   "metadata": {},
   "source": [
    "Perguntas:\n",
    "Qual é o público alvo?\n",
    "R: "
   ]
  },
  {
   "cell_type": "markdown",
   "id": "31cfadc1",
   "metadata": {},
   "source": [
    "quantidade de cada gênero"
   ]
  },
  {
   "cell_type": "code",
   "execution_count": 114,
   "id": "6580cf19",
   "metadata": {},
   "outputs": [
    {
     "name": "stdout",
     "output_type": "stream",
     "text": [
      "Gender\n",
      "Agender         19\n",
      "Bigender        20\n",
      "Female         452\n",
      "Genderfluid     17\n",
      "Genderqueer     12\n",
      "Male           449\n",
      "Non-binary      16\n",
      "Polygender      15\n",
      "Name: count, dtype: int64\n"
     ]
    }
   ],
   "source": [
    "# Exemplo de agrupamento por 'Gender'\n",
    "grouped_data = df.groupby('Gender')['Gender'].value_counts()\n",
    "print(grouped_data)"
   ]
  },
  {
   "cell_type": "markdown",
   "id": "8deb8991",
   "metadata": {},
   "source": [
    "porcentagem de cada gênero"
   ]
  },
  {
   "cell_type": "code",
   "execution_count": 115,
   "id": "f9399d87",
   "metadata": {},
   "outputs": [
    {
     "name": "stdout",
     "output_type": "stream",
     "text": [
      "Gender\n",
      "Agender         1.9\n",
      "Bigender        2.0\n",
      "Female         45.2\n",
      "Genderfluid     1.7\n",
      "Genderqueer     1.2\n",
      "Male           44.9\n",
      "Non-binary      1.6\n",
      "Polygender      1.5\n",
      "Name: count, dtype: float64\n"
     ]
    }
   ],
   "source": [
    "percentual = (grouped_data / grouped_data.sum() * 100).round(2)\n",
    "print(percentual)"
   ]
  },
  {
   "cell_type": "markdown",
   "id": "5cdf1343",
   "metadata": {},
   "source": [
    "Quantos solteiros tem?"
   ]
  },
  {
   "cell_type": "code",
   "execution_count": 116,
   "id": "963869c5",
   "metadata": {},
   "outputs": [
    {
     "name": "stdout",
     "output_type": "stream",
     "text": [
      "solteiros : 242\n"
     ]
    }
   ],
   "source": [
    "solteiros = df[df['Marital_Status'] == 'Single']\n",
    "print(f'solteiros : {len(solteiros)}')"
   ]
  },
  {
   "cell_type": "markdown",
   "id": "28fadfaa",
   "metadata": {},
   "source": [
    "Qual é a idade média dos clientes?"
   ]
  },
  {
   "cell_type": "code",
   "execution_count": 117,
   "id": "99564ca4",
   "metadata": {},
   "outputs": [
    {
     "name": "stdout",
     "output_type": "stream",
     "text": [
      "A idade média dos clientes é: 34.30\n"
     ]
    }
   ],
   "source": [
    "idade_media = df['Age'].mean()\n",
    "print(f'A idade média dos clientes é: {idade_media:.2f}')"
   ]
  },
  {
   "cell_type": "markdown",
   "id": "ac197518",
   "metadata": {},
   "source": [
    "Qual é a idade média por nível de renda?"
   ]
  },
  {
   "cell_type": "code",
   "execution_count": 118,
   "id": "27714673",
   "metadata": {},
   "outputs": [
    {
     "data": {
      "text/plain": [
       "Income_Level\n",
       "High      34.23\n",
       "Middle    34.38\n",
       "Name: Age, dtype: float64"
      ]
     },
     "execution_count": 118,
     "metadata": {},
     "output_type": "execute_result"
    }
   ],
   "source": [
    "im_renda = (df.groupby('Income_Level')['Age'].mean()).round(2)\n",
    "im_renda"
   ]
  },
  {
   "cell_type": "markdown",
   "id": "03b26f3d",
   "metadata": {},
   "source": [
    "Qual é a idade média por gênero?"
   ]
  },
  {
   "cell_type": "code",
   "execution_count": 119,
   "id": "3f775ccd",
   "metadata": {},
   "outputs": [
    {
     "data": {
      "text/plain": [
       "Gender\n",
       "Agender        34.58\n",
       "Bigender       33.85\n",
       "Female         33.88\n",
       "Genderfluid    31.94\n",
       "Genderqueer    31.83\n",
       "Male           34.84\n",
       "Non-binary     35.25\n",
       "Polygender     34.87\n",
       "Name: Age, dtype: float64"
      ]
     },
     "execution_count": 119,
     "metadata": {},
     "output_type": "execute_result"
    }
   ],
   "source": [
    "im_genero = df.groupby('Gender')['Age'].mean().round(2)\n",
    "im_genero"
   ]
  },
  {
   "cell_type": "markdown",
   "id": "1ca49937",
   "metadata": {},
   "source": [
    "Qual é a proporção de clientes por nível de renda (Baixa, Média, Alta)?"
   ]
  },
  {
   "cell_type": "code",
   "execution_count": 120,
   "id": "73a12b4f",
   "metadata": {},
   "outputs": [
    {
     "data": {
      "text/plain": [
       "Income_Level\n",
       "High      51.5\n",
       "Middle    48.5\n",
       "Name: count, dtype: float64"
      ]
     },
     "execution_count": 120,
     "metadata": {},
     "output_type": "execute_result"
    }
   ],
   "source": [
    "nivel_renda = df.groupby('Income_Level')['Income_Level'].value_counts()\n",
    "perc_nr = nivel_renda / nivel_renda.sum()*100\n",
    "perc_nr"
   ]
  },
  {
   "cell_type": "markdown",
   "id": "f1de0b2a",
   "metadata": {},
   "source": [
    "Qual é a categoria de produto mais comprada?"
   ]
  },
  {
   "cell_type": "code",
   "execution_count": 121,
   "id": "ff8a8199",
   "metadata": {},
   "outputs": [
    {
     "name": "stdout",
     "output_type": "stream",
     "text": [
      "Electronics - 54\n"
     ]
    }
   ],
   "source": [
    "categorias = df.groupby('Purchase_Category')['Purchase_Category'].value_counts()\n",
    "print(f'{categorias.idxmax()} - {categorias.max()}')"
   ]
  },
  {
   "cell_type": "markdown",
   "id": "59fd34b5",
   "metadata": {},
   "source": [
    "Qual é o valor médio gasto por compra?"
   ]
  },
  {
   "cell_type": "code",
   "execution_count": 122,
   "id": "a9ea84c4",
   "metadata": {},
   "outputs": [
    {
     "data": {
      "text/plain": [
       "np.float64(275.06388)"
      ]
     },
     "execution_count": 122,
     "metadata": {},
     "output_type": "execute_result"
    }
   ],
   "source": [
    "df['Purchase_Amount'] = df['Purchase_Amount'].str.replace('$', '').astype('float')\n",
    "df['Purchase_Amount'].mean()"
   ]
  },
  {
   "cell_type": "markdown",
   "id": "8525fd27",
   "metadata": {},
   "source": [
    "Qual é o método de pagamento mais usado?"
   ]
  },
  {
   "cell_type": "code",
   "execution_count": 124,
   "id": "4e71ed43",
   "metadata": {},
   "outputs": [
    {
     "name": "stdout",
     "output_type": "stream",
     "text": [
      "O método de pagamento mais usado é: PayPal com 219 ocorrências\n"
     ]
    }
   ],
   "source": [
    "metodo_pagamento_mais_usado = df['Payment_Method'].value_counts().idxmax()\n",
    "ocorrencias = df['Payment_Method'].value_counts().max()\n",
    "print(f'O método de pagamento mais usado é: {metodo_pagamento_mais_usado} com {ocorrencias} ocorrências')"
   ]
  },
  {
   "cell_type": "markdown",
   "id": "510f2d1a",
   "metadata": {},
   "source": [
    "Quantas compras foram feitas online vs. em loja física?"
   ]
  },
  {
   "cell_type": "code",
   "execution_count": null,
   "id": "efab2f17",
   "metadata": {},
   "outputs": [],
   "source": []
  },
  {
   "cell_type": "markdown",
   "id": "59475a83",
   "metadata": {},
   "source": [
    "Qual é a avaliação média dos produtos?"
   ]
  },
  {
   "cell_type": "code",
   "execution_count": null,
   "id": "b3993d94",
   "metadata": {},
   "outputs": [],
   "source": []
  },
  {
   "cell_type": "markdown",
   "id": "b81108e5",
   "metadata": {},
   "source": [
    "O valor médio de compra é maior para clientes do gênero feminino ou masculino?"
   ]
  },
  {
   "cell_type": "code",
   "execution_count": null,
   "id": "d33f5192",
   "metadata": {},
   "outputs": [],
   "source": []
  },
  {
   "cell_type": "markdown",
   "id": "c9c5f246",
   "metadata": {},
   "source": [
    "O valor médio de compra pelo marital status"
   ]
  },
  {
   "cell_type": "code",
   "execution_count": null,
   "id": "41d699b2",
   "metadata": {},
   "outputs": [],
   "source": []
  }
 ],
 "metadata": {
  "kernelspec": {
   "display_name": "Python 3",
   "language": "python",
   "name": "python3"
  },
  "language_info": {
   "codemirror_mode": {
    "name": "ipython",
    "version": 3
   },
   "file_extension": ".py",
   "mimetype": "text/x-python",
   "name": "python",
   "nbconvert_exporter": "python",
   "pygments_lexer": "ipython3",
   "version": "3.13.0"
  }
 },
 "nbformat": 4,
 "nbformat_minor": 5
}
